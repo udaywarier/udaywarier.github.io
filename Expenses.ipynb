{
 "cells": [
  {
   "cell_type": "markdown",
   "metadata": {},
   "source": [
    "# Expenses by Program and Category from 2012 - 2020"
   ]
  },
  {
   "cell_type": "markdown",
   "metadata": {},
   "source": [
    "Expense data can be found on this site: http://otcads.umd.edu/bfa/budgetinfo3.htm  \n",
    "For every \"FY\" year, there is a \"Expenses - Program\" and a \"Expenses - Catageory\" dataset. Basically, they're describing the expenses made that year and splitting it by program and category. Some of the data was available on a \".htm\" file, so it was easy to scrape and return a pandas dataframe. A lot of the data was on pdf's, so each pdf had to be manually copied and pasted into strings. I then did some split and regex operations to separate out the data."
   ]
  },
  {
   "cell_type": "code",
   "execution_count": 1,
   "metadata": {},
   "outputs": [],
   "source": [
    "import requests\n",
    "import pandas as pd\n",
    "from bs4 import BeautifulSoup\n",
    "import pickle"
   ]
  },
  {
   "cell_type": "markdown",
   "metadata": {},
   "source": [
    "## Scraping & Parsing"
   ]
  },
  {
   "cell_type": "markdown",
   "metadata": {},
   "source": [
    "For the years 2016, 2017, 2019, and 2020, there were \".htm\" files. For each of these years, there were two html files that had to be parsed. One for the expenses by program and one for expenses by category. Therefore there were two unique url's for each year. Specifying the group (either 'Program' or 'Category') and the year made a unique url. "
   ]
  },
  {
   "cell_type": "code",
   "execution_count": 2,
   "metadata": {},
   "outputs": [],
   "source": [
    "def create_expense_df(url, group, year):\n",
    "    r = requests.get(url)\n",
    "    soup = BeautifulSoup(r.text,'html.parser')\n",
    "    \n",
    "    str_table = []\n",
    "\n",
    "    table = soup.find_all('table')[0]\n",
    "    for e in table.find_all('td'):\n",
    "        if(not e.text.strip().isspace() and len(e.text.strip()) != 0):\n",
    "            str_table.append(e.text.strip().replace('\\r', '').replace('\\n','').replace('\\xa0', ''))\n",
    "            \n",
    "    i = str_table.index('AMOUNT') + 1\n",
    "\n",
    "    expenses_tmp = pd.DataFrame(columns=['Year', 'Group Type', 'Group', 'Total Expenditure Amount'])\n",
    "\n",
    "    while(i < len(str_table)):    \n",
    "        dictionary = {\n",
    "            'Year' : str(year),\n",
    "            'Group Type' : group,\n",
    "            'Group' : str_table[i].title(),\n",
    "            'Total Expenditure Amount' : float(str_table[i + 1].replace(',', '').replace('$', ''))\n",
    "        }\n",
    "        expenses_tmp = expenses_tmp.append(dictionary, ignore_index=True)\n",
    "        i = i + 2\n",
    "    \n",
    "    expenses_tmp['Year'] = expenses_tmp['Year'].astype(int)\n",
    "    \n",
    "    return expenses_tmp"
   ]
  },
  {
   "cell_type": "markdown",
   "metadata": {},
   "source": [
    "Each year's expenses were appended to a list."
   ]
  },
  {
   "cell_type": "code",
   "execution_count": 3,
   "metadata": {},
   "outputs": [],
   "source": [
    "expenses_df = []\n",
    "#  valid years 2016, 2017, 2019, 2020\n",
    "\n",
    "# 2016\n",
    "url1 = 'http://otcads.umd.edu/bfa/FY16%20Working%20Budget/web2/FY16%20EXP%20-%20PROG_files/sheet001.htm'\n",
    "url2 = 'http://otcads.umd.edu/bfa/FY16%20Working%20Budget/web2/FY16%20EXP%20%20-%20CAT_files/sheet001.htm'\n",
    "expenses_df.append(create_expense_df(url1, 'Program', 2016))\n",
    "expenses_df.append(create_expense_df(url2, 'Category', 2016))\n",
    "\n",
    "# 2017\n",
    "url1 = 'http://otcads.umd.edu/bfa/FY17%20Working%20Budget/Web/FY17%20EXP%20%20-%20Prog%20web_files/sheet001.htm'\n",
    "url2 = 'http://otcads.umd.edu/bfa/FY17%20Working%20Budget/Web/FY17%20EXP%20%20-%20CAT_files/sheet001.htm'\n",
    "expenses_df.append(create_expense_df(url1, 'Program', 2017))\n",
    "expenses_df.append(create_expense_df(url2, 'Category', 2017))\n",
    "\n",
    "# 2019\n",
    "url1 = 'http://otcads.umd.edu/bfa/FY19%20Working%20Budget/Web/FY19%20EXP%20%20-%20CAT%20Web%20by%20Prog%20revised_files/sheet001.htm'\n",
    "url2 = 'http://otcads.umd.edu/bfa/FY19%20Working%20Budget/Web/FY19%20EXP%20%20-%20Web%20by%20CAT%20revised_files/sheet001.htm'\n",
    "expenses_df.append(create_expense_df(url1, 'Program', 2019))\n",
    "expenses_df.append(create_expense_df(url2, 'Category', 2019))\n",
    "\n",
    "# 2020\n",
    "url1 = 'http://otcads.umd.edu/bfa/FY20%20Working%20Budget/web/FY20%20EXP%20%20-%20Prog_files/sheet001.htm'\n",
    "url2 = 'http://otcads.umd.edu/bfa/FY20%20Working%20Budget/web/FY20%20EXP%20%20-%20CAT_files/sheet001.htm'\n",
    "expenses_df.append(create_expense_df(url1, 'Program', 2020))\n",
    "expenses_df.append(create_expense_df(url2, 'Category', 2020))"
   ]
  },
  {
   "cell_type": "markdown",
   "metadata": {},
   "source": [
    "## Copying pdf text and parsing this data into pandas dataframes"
   ]
  },
  {
   "cell_type": "markdown",
   "metadata": {},
   "source": [
    "valid_scraping_years contains all the years for which url's can be scrapped.  \n",
    "invalid_scraping_years contains all the years for which url's cannot be scraped and had to be manually copied and pasted below."
   ]
  },
  {
   "cell_type": "code",
   "execution_count": 4,
   "metadata": {},
   "outputs": [
    {
     "data": {
      "text/plain": [
       "[2012, 2013, 2014, 2015, 2018]"
      ]
     },
     "execution_count": 4,
     "metadata": {},
     "output_type": "execute_result"
    }
   ],
   "source": [
    "valid_scraping_years = set([2016, 2017, 2019, 2020])\n",
    "invalid_scraping_years = set(list(range(2012, 2020 + 1))) - valid_scraping_years\n",
    "invalid_scraping_years = sorted(invalid_scraping_years)\n",
    "invalid_scraping_years"
   ]
  },
  {
   "cell_type": "markdown",
   "metadata": {},
   "source": [
    "`p_<year>` stands for expenses by program for that year  \n",
    "`c_<year>` stands for expenses by category for that year  "
   ]
  },
  {
   "cell_type": "code",
   "execution_count": 5,
   "metadata": {},
   "outputs": [],
   "source": [
    "p_2012 = \"\"\"BY PROGRAM: AMOUNT\n",
    "INSTRUCTION $428,495,207\n",
    "RESEARCH 404,917,793\n",
    "PUBLIC SERVICE 92,441,966\n",
    "ACADEMIC SUPPORT 136,847,833\n",
    "STUDENT SERVICES 43,124,048\n",
    "INSTITUTIONAL SUPPORT 95,763,104\n",
    "PLANT OPERATIONS 155,609,504\n",
    "AUXILIARY ENTERPRISES 236,629,383\n",
    "SCHOLARSHIPS & FELLOWSHIPS 94,130,248\n",
    "TOTAL EXPENDITURES $1,687,959,086\"\"\"\n",
    "c_2012 = \"\"\"BY CATEGORY: AMOUNT\n",
    "SALARIES & FRINGES $1,047,955,030\n",
    "GRANTS (SCHOLARSHIPS & REMISSIONS) 128,602,978\n",
    "FUEL & UTILITIES 69,648,583\n",
    "EQUIPMENT & SUPPLIES & VEHICLE OPERATION 116,724,401\n",
    "FIXED CHARGES, DEBT SERVICE, RENTALS & CONTRACTS 231,460,275\n",
    "LAND & STRUCTURES 47,893,728\n",
    "TRAVEL & COMMUNICATION 45,674,091\n",
    "TOTAL EXPENDITURES $1,687,959,086\"\"\"\n",
    "\n",
    "p_2013 = \"\"\"BY PROGRAM: AMOUNT\n",
    "INSTRUCTION $446,054,815\n",
    "RESEARCH 408,760,233\n",
    "PUBLIC SERVICE 110,955,322\n",
    "ACADEMIC SUPPORT 134,705,448\n",
    "STUDENT SERVICES 48,063,214\n",
    "INSTITUTIONAL SUPPORT 102,279,771\n",
    "PLANT OPERATIONS 155,881,837\n",
    "AUXILIARY ENTERPRISES 237,091,682\n",
    "SCHOLARSHIPS & FELLOWSHIPS 92,072,421\n",
    "TOTAL EXPENDITURES $1,735,864,743\"\"\"\n",
    "c_2013 = \"\"\"BY CATEGORY: AMOUNT\n",
    "SALARIES & FRINGES $1,065,834,126\n",
    "GRANTS (SCHOLARSHIPS & REMISSIONS) 127,666,293\n",
    "FUEL & UTILITIES 65,843,429\n",
    "EQUIPMENT & SUPPLIES & VEHICLE OPERATION 117,275,986\n",
    "FIXED CHARGES, DEBT SERVICE, RENTALS & CONTRACTS 253,546,074\n",
    "LAND & STRUCTURES 56,688,108\n",
    "TRAVEL & COMMUNICATION 49,010,727\n",
    "TOTAL EXPENDITURES $1,735,864,743\"\"\"\n",
    "\n",
    "p_2014 = \"\"\"BY PROGRAM: AMOUNT\n",
    "INSTRUCTION $462,203,052\n",
    "RESEARCH 439,570,120\n",
    "PUBLIC SERVICE 99,839,121\n",
    "ACADEMIC SUPPORT 148,418,447\n",
    "STUDENT SERVICES 48,874,791\n",
    "INSTITUTIONAL SUPPORT 107,940,005\n",
    "PLANT OPERATIONS 160,987,117\n",
    "AUXILIARY ENTERPRISES 243,018,974\n",
    "SCHOLARSHIPS & FELLOWSHIPS 101,483,978\n",
    "TOTAL EXPENDITURES $1,812,335,605\"\"\"\n",
    "c_2014 = \"\"\"BY CATEGORY: AMOUNT\n",
    "SALARIES & FRINGES $1,120,737,920\n",
    "GRANTS (SCHOLARSHIPS & REMISSIONS) 133,482,141\n",
    "FUEL & UTILITIES 62,014,508\n",
    "EQUIPMENT & SUPPLIES & VEHICLE OPERATION 122,782,223\n",
    "FIXED CHARGES, DEBT SERVICE, RENTALS & CONTRACTS 262,578,843\n",
    "LAND & STRUCTURES 61,889,829\n",
    "TRAVEL & COMMUNICATION 48,850,141\n",
    "TOTAL EXPENDITURES $1,812,335,605\"\"\"\n",
    "\n",
    "p_2015 = \"\"\"BY PROGRAM: AMOUNT\n",
    "INSTRUCTION $480,246,081\n",
    "RESEARCH 427,338,193\n",
    "PUBLIC SERVICE 93,187,167\n",
    "ACADEMIC SUPPORT 158,885,956\n",
    "STUDENT SERVICES 53,688,537\n",
    "INSTITUTIONAL SUPPORT 108,205,546\n",
    "PLANT OPERATIONS 163,714,975\n",
    "AUXILIARY ENTERPRISES 263,330,275\n",
    "SCHOLARSHIPS & FELLOWSHIPS 112,783,158\n",
    "TOTAL EXPENDITURES $1,861,379,888\"\"\"\n",
    "c_2015 = \"\"\"BY CATEGORY: AMOUNT\n",
    "SALARIES & FRINGES $1,169,565,756\n",
    "GRANTS (SCHOLARSHIPS & REMISSIONS) 147,222,843\n",
    "FUEL & UTILITIES 61,359,300\n",
    "EQUIPMENT & SUPPLIES & VEHICLE OPERATION 122,558,188\n",
    "FIXED CHARGES, DEBT SERVICE, RENTALS & CONTRACTS 238,077,554\n",
    "LAND & STRUCTURES 71,589,344\n",
    "TRAVEL & COMMUNICATION 51,006,903\n",
    "TOTAL EXPENDITURES $1,861,379,888\"\"\"\n",
    "\n",
    "p_2018 = \"\"\"BY PROGRAM: AMOUNT\n",
    "INSTRUCTION $555,109,091\n",
    "RESEARCH 464,627,904\n",
    "PUBLIC SERVICE 95,744,211\n",
    "ACADEMIC SUPPORT 181,268,450\n",
    "STUDENT SERVICES 60,056,385\n",
    "INSTITUTIONAL SUPPORT 143,438,901\n",
    "PLANT OPERATIONS 182,714,408\n",
    "AUXILIARY ENTERPRISES 291,173,940\n",
    "SCHOLARSHIPS & FELLOWSHIPS 116,234,379\n",
    "TOTAL EXPENDITURES $2,090,367,669\"\"\"\n",
    "c_2018 = \"\"\"BY CATEGORY: AMOUNT\n",
    "SALARIES & FRINGES $1,336,690,046\n",
    "GRANTS (SCHOLARSHIPS & REMISSIONS) 150,148,887\n",
    "FUEL & UTILITIES 61,057,636\n",
    "EQUIPMENT & SUPPLIES & VEHICLE OPERATION 145,473,817\n",
    "FIXED CHARGES, DEBT SERVICE, RENTALS & CONTRACTS 254,022,035\n",
    "LAND & STRUCTURES 81,478,199\n",
    "TRAVEL & COMMUNICATION 61,497,049\n",
    "TOTAL EXPENDITURES $2,090,367,669\"\"\"\n",
    "\n",
    "str_data = [p_2012, c_2012, p_2013, c_2013, p_2014, c_2014, p_2015, c_2015, p_2018, c_2018]"
   ]
  },
  {
   "cell_type": "markdown",
   "metadata": {},
   "source": [
    "## Parsing"
   ]
  },
  {
   "cell_type": "markdown",
   "metadata": {},
   "source": [
    "Now that all the data for the expenses has been painfully collected, the following code will parse the text and append expense dataframes to the expenses_df list."
   ]
  },
  {
   "cell_type": "code",
   "execution_count": 6,
   "metadata": {},
   "outputs": [],
   "source": [
    "expenses_tmp = pd.DataFrame()\n",
    "\n",
    "for i in range(len(invalid_scraping_years)):\n",
    "    \n",
    "    lines = str_data[i].split('\\n')\n",
    "    year = int(invalid_scraping_years[i])\n",
    "    \n",
    "    group = ''\n",
    "    for line in lines:\n",
    "        if('BY PROGRAM: AMOUNT' in line):\n",
    "            group = 'Program'\n",
    "            continue\n",
    "        if('BY CATEGORY: AMOUNT' in line):\n",
    "            group = 'Category'\n",
    "            continue\n",
    "        \n",
    "        elements = line.split()\n",
    "        row_desc = ''\n",
    "        for e in elements[:-1]:\n",
    "            row_desc = row_desc + \" \" + e\n",
    "        row_desc = row_desc.title()\n",
    "\n",
    "        dictionary = {\n",
    "            'Year' : int(year),\n",
    "            'Group Type' : group,\n",
    "            'Group' : row_desc,\n",
    "            'Total Expenditure Amount' : float(elements[-1].replace(',', '').replace('$', ''))\n",
    "        }\n",
    "        expenses_tmp = expenses_tmp.append(dictionary, ignore_index=True)\n",
    "        \n",
    "expenses_df.append(expenses_tmp)"
   ]
  },
  {
   "cell_type": "markdown",
   "metadata": {},
   "source": [
    "## Finalizing & Fine-tuning"
   ]
  },
  {
   "cell_type": "markdown",
   "metadata": {},
   "source": [
    "Now the data is all combined into a single expense dataframe and relevant columns are correctly type casted."
   ]
  },
  {
   "cell_type": "code",
   "execution_count": 7,
   "metadata": {},
   "outputs": [],
   "source": [
    "expense = pd.concat(expenses_df, sort=False)\n",
    "expense = expense[['Year', 'Group Type', 'Group', 'Total Expenditure Amount']]"
   ]
  },
  {
   "cell_type": "code",
   "execution_count": 8,
   "metadata": {},
   "outputs": [],
   "source": [
    "expense['Total Expenditure Amount'] = expense['Total Expenditure Amount'].astype(float)\n",
    "expense['Year'] = expense['Year'].astype(int)"
   ]
  },
  {
   "cell_type": "code",
   "execution_count": 9,
   "metadata": {},
   "outputs": [],
   "source": [
    "expense = expense.sort_values(by='Year', ascending=False)"
   ]
  },
  {
   "cell_type": "code",
   "execution_count": 10,
   "metadata": {},
   "outputs": [
    {
     "data": {
      "text/plain": [
       "array([2020, 2019, 2018, 2017, 2016, 2015, 2014, 2013, 2012])"
      ]
     },
     "execution_count": 10,
     "metadata": {},
     "output_type": "execute_result"
    }
   ],
   "source": [
    "expense['Year'].unique()"
   ]
  },
  {
   "cell_type": "code",
   "execution_count": 11,
   "metadata": {},
   "outputs": [
    {
     "data": {
      "text/html": [
       "<div>\n",
       "<style scoped>\n",
       "    .dataframe tbody tr th:only-of-type {\n",
       "        vertical-align: middle;\n",
       "    }\n",
       "\n",
       "    .dataframe tbody tr th {\n",
       "        vertical-align: top;\n",
       "    }\n",
       "\n",
       "    .dataframe thead th {\n",
       "        text-align: right;\n",
       "    }\n",
       "</style>\n",
       "<table border=\"1\" class=\"dataframe\">\n",
       "  <thead>\n",
       "    <tr style=\"text-align: right;\">\n",
       "      <th></th>\n",
       "      <th>Year</th>\n",
       "      <th>Group Type</th>\n",
       "      <th>Group</th>\n",
       "      <th>Total Expenditure Amount</th>\n",
       "    </tr>\n",
       "  </thead>\n",
       "  <tbody>\n",
       "    <tr>\n",
       "      <td>5</td>\n",
       "      <td>2020</td>\n",
       "      <td>Program</td>\n",
       "      <td>Institutional Support</td>\n",
       "      <td>1.395546e+08</td>\n",
       "    </tr>\n",
       "    <tr>\n",
       "      <td>4</td>\n",
       "      <td>2020</td>\n",
       "      <td>Category</td>\n",
       "      <td>Fixed Charges, Debt  Service, Rentals &amp; Contracts</td>\n",
       "      <td>2.754100e+08</td>\n",
       "    </tr>\n",
       "    <tr>\n",
       "      <td>0</td>\n",
       "      <td>2020</td>\n",
       "      <td>Program</td>\n",
       "      <td>Instruction</td>\n",
       "      <td>5.988685e+08</td>\n",
       "    </tr>\n",
       "    <tr>\n",
       "      <td>1</td>\n",
       "      <td>2020</td>\n",
       "      <td>Program</td>\n",
       "      <td>Research</td>\n",
       "      <td>4.956594e+08</td>\n",
       "    </tr>\n",
       "    <tr>\n",
       "      <td>2</td>\n",
       "      <td>2020</td>\n",
       "      <td>Program</td>\n",
       "      <td>Public Service</td>\n",
       "      <td>9.758716e+07</td>\n",
       "    </tr>\n",
       "    <tr>\n",
       "      <td>...</td>\n",
       "      <td>...</td>\n",
       "      <td>...</td>\n",
       "      <td>...</td>\n",
       "      <td>...</td>\n",
       "    </tr>\n",
       "    <tr>\n",
       "      <td>8</td>\n",
       "      <td>2012</td>\n",
       "      <td>Program</td>\n",
       "      <td>Scholarships &amp; Fellowships</td>\n",
       "      <td>9.413025e+07</td>\n",
       "    </tr>\n",
       "    <tr>\n",
       "      <td>9</td>\n",
       "      <td>2012</td>\n",
       "      <td>Program</td>\n",
       "      <td>Total Expenditures</td>\n",
       "      <td>1.687959e+09</td>\n",
       "    </tr>\n",
       "    <tr>\n",
       "      <td>1</td>\n",
       "      <td>2012</td>\n",
       "      <td>Program</td>\n",
       "      <td>Research</td>\n",
       "      <td>4.049178e+08</td>\n",
       "    </tr>\n",
       "    <tr>\n",
       "      <td>0</td>\n",
       "      <td>2012</td>\n",
       "      <td>Program</td>\n",
       "      <td>Instruction</td>\n",
       "      <td>4.284952e+08</td>\n",
       "    </tr>\n",
       "    <tr>\n",
       "      <td>2</td>\n",
       "      <td>2012</td>\n",
       "      <td>Program</td>\n",
       "      <td>Public Service</td>\n",
       "      <td>9.244197e+07</td>\n",
       "    </tr>\n",
       "  </tbody>\n",
       "</table>\n",
       "<p>118 rows × 4 columns</p>\n",
       "</div>"
      ],
      "text/plain": [
       "    Year Group Type                                              Group  \\\n",
       "5   2020    Program                              Institutional Support   \n",
       "4   2020   Category  Fixed Charges, Debt  Service, Rentals & Contracts   \n",
       "0   2020    Program                                        Instruction   \n",
       "1   2020    Program                                           Research   \n",
       "2   2020    Program                                     Public Service   \n",
       "..   ...        ...                                                ...   \n",
       "8   2012    Program                         Scholarships & Fellowships   \n",
       "9   2012    Program                                 Total Expenditures   \n",
       "1   2012    Program                                           Research   \n",
       "0   2012    Program                                        Instruction   \n",
       "2   2012    Program                                     Public Service   \n",
       "\n",
       "    Total Expenditure Amount  \n",
       "5               1.395546e+08  \n",
       "4               2.754100e+08  \n",
       "0               5.988685e+08  \n",
       "1               4.956594e+08  \n",
       "2               9.758716e+07  \n",
       "..                       ...  \n",
       "8               9.413025e+07  \n",
       "9               1.687959e+09  \n",
       "1               4.049178e+08  \n",
       "0               4.284952e+08  \n",
       "2               9.244197e+07  \n",
       "\n",
       "[118 rows x 4 columns]"
      ]
     },
     "execution_count": 11,
     "metadata": {},
     "output_type": "execute_result"
    }
   ],
   "source": [
    "expense"
   ]
  },
  {
   "cell_type": "code",
   "execution_count": 12,
   "metadata": {},
   "outputs": [],
   "source": [
    "expense.to_pickle('df/expense')"
   ]
  },
  {
   "cell_type": "code",
   "execution_count": null,
   "metadata": {},
   "outputs": [],
   "source": []
  }
 ],
 "metadata": {
  "kernelspec": {
   "display_name": "Python 3",
   "language": "python",
   "name": "python3"
  },
  "language_info": {
   "codemirror_mode": {
    "name": "ipython",
    "version": 3
   },
   "file_extension": ".py",
   "mimetype": "text/x-python",
   "name": "python",
   "nbconvert_exporter": "python",
   "pygments_lexer": "ipython3",
   "version": "3.6.8"
  }
 },
 "nbformat": 4,
 "nbformat_minor": 2
}
