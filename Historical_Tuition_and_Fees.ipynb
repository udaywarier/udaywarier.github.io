{
 "cells": [
  {
   "cell_type": "markdown",
   "metadata": {},
   "source": [
    "# Historical Tuition and Fees from 2010 - 2020"
   ]
  },
  {
   "cell_type": "markdown",
   "metadata": {},
   "source": [
    "As shown on http://otcads.umd.edu/bfa/budgetinfo3.htm, there is a historical tuition and fees page (shown here: http://otcads.umd.edu/bfa/FY20%20Working%20Budget/web/TuitHist%202010%20to%202020%20(Excel).htm).  \n",
    "This dataset has tuition rates for all kinds of students from 2010 to 2020. "
   ]
  },
  {
   "cell_type": "code",
   "execution_count": 1,
   "metadata": {},
   "outputs": [],
   "source": [
    "import requests\n",
    "import pandas as pd\n",
    "from bs4 import BeautifulSoup\n",
    "import pickle"
   ]
  },
  {
   "cell_type": "markdown",
   "metadata": {},
   "source": [
    "## Scraping"
   ]
  },
  {
   "cell_type": "code",
   "execution_count": 2,
   "metadata": {},
   "outputs": [],
   "source": [
    "url = 'http://otcads.umd.edu/bfa/FY20%20Working%20Budget/web/TuitHist%202010%20to%202020%20(Excel)_files/sheet001.htm'\n",
    "r = requests.get(url)"
   ]
  },
  {
   "cell_type": "code",
   "execution_count": 3,
   "metadata": {},
   "outputs": [],
   "source": [
    "soup = BeautifulSoup(r.text,'html.parser')"
   ]
  },
  {
   "cell_type": "code",
   "execution_count": 4,
   "metadata": {},
   "outputs": [
    {
     "data": {
      "text/plain": [
       "1"
      ]
     },
     "execution_count": 4,
     "metadata": {},
     "output_type": "execute_result"
    }
   ],
   "source": [
    "# Extracting the only table there is.\n",
    "len(soup.find_all('table'))"
   ]
  },
  {
   "cell_type": "code",
   "execution_count": 5,
   "metadata": {},
   "outputs": [],
   "source": [
    "table = soup.find('table')"
   ]
  },
  {
   "cell_type": "code",
   "execution_count": 6,
   "metadata": {},
   "outputs": [],
   "source": [
    "str_table = []\n",
    "for e in table.find_all('td'):\n",
    "    if(e.text.strip()):\n",
    "        str_table.append(e.text.strip())"
   ]
  },
  {
   "cell_type": "markdown",
   "metadata": {},
   "source": [
    "In order to find the parts of the text that is necessary to copy into the dataframe, keywords like 'Undergrad Resident' were used to find the starting and ending indexes. The code directly below can be uncommented to show all the indexes of the parsed text."
   ]
  },
  {
   "cell_type": "raw",
   "metadata": {},
   "source": [
    "str_table\n",
    "for i in range(0, len(str_table)):\n",
    "    print(i, \" \", str_table[i])"
   ]
  },
  {
   "cell_type": "markdown",
   "metadata": {},
   "source": [
    "## Parsing"
   ]
  },
  {
   "cell_type": "code",
   "execution_count": 7,
   "metadata": {},
   "outputs": [],
   "source": [
    "tuition_fees = pd.DataFrame(columns=['Fee Type (Total for Fall and Spring)', 'Student Type'] + list(map(str, range(2010, 2021))))\n",
    "\n",
    "i = str_table.index('Undergrad Resident')\n",
    "while(i <= str_table.index('Mandatory Fees') - 1):\n",
    "    descr = str_table[i]\n",
    "    skip = 0\n",
    "    if(str_table[i + 12] == '(fee per credit hour)'):\n",
    "        descr = descr + ' (fee per credit hour)'\n",
    "        skip = 1\n",
    "        \n",
    "    years = list(map(str, range(2010, 2021)))\n",
    "    values = str_table[i+1:i+12]\n",
    "    dictionary = dict(zip(years, values))\n",
    "    dictionary['Student Type'] = descr\n",
    "    \n",
    "    dictionary['Fee Type (Total for Fall and Spring)'] = 'Standard Tuition Rates'\n",
    "    \n",
    "    tuition_fees = tuition_fees.append(dictionary, ignore_index=True)\n",
    "    i = i + 12 + skip \n",
    "    \n",
    "i = str_table.index('Undergrad FT')\n",
    "while(i <= len(str_table) - 2):\n",
    "    descr = str_table[i]\n",
    "    \n",
    "    years = list(map(str, range(2010, 2021)))\n",
    "    values = str_table[i+1:i+12]\n",
    "    dictionary = dict(zip(years, values))\n",
    "    dictionary['Student Type'] = descr\n",
    "    \n",
    "    dictionary['Fee Type (Total for Fall and Spring)'] = 'Mandatory Fees'\n",
    "    \n",
    "    tuition_fees = tuition_fees.append(dictionary, ignore_index=True)\n",
    "    i = i + 12"
   ]
  },
  {
   "cell_type": "markdown",
   "metadata": {},
   "source": [
    "## Finalizing & Fine-tuning"
   ]
  },
  {
   "cell_type": "markdown",
   "metadata": {},
   "source": [
    "The data is now being correctly type casted."
   ]
  },
  {
   "cell_type": "code",
   "execution_count": 8,
   "metadata": {},
   "outputs": [],
   "source": [
    "for year in list(range(2010, 2021)):\n",
    "    tuition_fees[str(year)] = tuition_fees[str(year)].apply(lambda x : x.replace(',', ''))\n",
    "    tuition_fees[str(year)] = tuition_fees[str(year)].astype(float)"
   ]
  },
  {
   "cell_type": "code",
   "execution_count": 9,
   "metadata": {},
   "outputs": [
    {
     "data": {
      "text/html": [
       "<div>\n",
       "<style scoped>\n",
       "    .dataframe tbody tr th:only-of-type {\n",
       "        vertical-align: middle;\n",
       "    }\n",
       "\n",
       "    .dataframe tbody tr th {\n",
       "        vertical-align: top;\n",
       "    }\n",
       "\n",
       "    .dataframe thead th {\n",
       "        text-align: right;\n",
       "    }\n",
       "</style>\n",
       "<table border=\"1\" class=\"dataframe\">\n",
       "  <thead>\n",
       "    <tr style=\"text-align: right;\">\n",
       "      <th></th>\n",
       "      <th>Fee Type (Total for Fall and Spring)</th>\n",
       "      <th>Student Type</th>\n",
       "      <th>2010</th>\n",
       "      <th>2011</th>\n",
       "      <th>2012</th>\n",
       "      <th>2013</th>\n",
       "      <th>2014</th>\n",
       "      <th>2015</th>\n",
       "      <th>2016</th>\n",
       "      <th>2017</th>\n",
       "      <th>2018</th>\n",
       "      <th>2019</th>\n",
       "      <th>2020</th>\n",
       "    </tr>\n",
       "  </thead>\n",
       "  <tbody>\n",
       "    <tr>\n",
       "      <td>0</td>\n",
       "      <td>Standard Tuition Rates</td>\n",
       "      <td>Undergrad Resident</td>\n",
       "      <td>6566.0</td>\n",
       "      <td>6763.0</td>\n",
       "      <td>6966.0</td>\n",
       "      <td>7175.0</td>\n",
       "      <td>7390.0</td>\n",
       "      <td>7764.0</td>\n",
       "      <td>8152.0</td>\n",
       "      <td>8315.0</td>\n",
       "      <td>8481.0</td>\n",
       "      <td>8651.0</td>\n",
       "      <td>8824.0</td>\n",
       "    </tr>\n",
       "    <tr>\n",
       "      <td>1</td>\n",
       "      <td>Standard Tuition Rates</td>\n",
       "      <td>Undergrad Non-Res</td>\n",
       "      <td>22503.0</td>\n",
       "      <td>23178.0</td>\n",
       "      <td>24337.0</td>\n",
       "      <td>25554.0</td>\n",
       "      <td>26576.0</td>\n",
       "      <td>27905.0</td>\n",
       "      <td>29300.0</td>\n",
       "      <td>30179.0</td>\n",
       "      <td>31688.0</td>\n",
       "      <td>33272.0</td>\n",
       "      <td>34936.0</td>\n",
       "    </tr>\n",
       "    <tr>\n",
       "      <td>2</td>\n",
       "      <td>Standard Tuition Rates</td>\n",
       "      <td>Undergrad PT Resident (fee per credit hour)</td>\n",
       "      <td>273.0</td>\n",
       "      <td>282.0</td>\n",
       "      <td>290.0</td>\n",
       "      <td>299.0</td>\n",
       "      <td>308.0</td>\n",
       "      <td>324.0</td>\n",
       "      <td>340.0</td>\n",
       "      <td>346.0</td>\n",
       "      <td>353.0</td>\n",
       "      <td>360.0</td>\n",
       "      <td>367.0</td>\n",
       "    </tr>\n",
       "    <tr>\n",
       "      <td>3</td>\n",
       "      <td>Standard Tuition Rates</td>\n",
       "      <td>Undergrad PT Non-Res (fee per credit hour)</td>\n",
       "      <td>938.0</td>\n",
       "      <td>966.0</td>\n",
       "      <td>1014.0</td>\n",
       "      <td>1065.0</td>\n",
       "      <td>1108.0</td>\n",
       "      <td>1163.0</td>\n",
       "      <td>1221.0</td>\n",
       "      <td>1258.0</td>\n",
       "      <td>1321.0</td>\n",
       "      <td>1387.0</td>\n",
       "      <td>1456.0</td>\n",
       "    </tr>\n",
       "    <tr>\n",
       "      <td>4</td>\n",
       "      <td>Standard Tuition Rates</td>\n",
       "      <td>Graduate Resident (fee per credit hour)</td>\n",
       "      <td>471.0</td>\n",
       "      <td>500.0</td>\n",
       "      <td>525.0</td>\n",
       "      <td>551.0</td>\n",
       "      <td>573.0</td>\n",
       "      <td>602.0</td>\n",
       "      <td>632.0</td>\n",
       "      <td>651.0</td>\n",
       "      <td>683.0</td>\n",
       "      <td>717.0</td>\n",
       "      <td>731.0</td>\n",
       "    </tr>\n",
       "    <tr>\n",
       "      <td>5</td>\n",
       "      <td>Standard Tuition Rates</td>\n",
       "      <td>Graduate Non-Res (fee per credit hour)</td>\n",
       "      <td>1016.0</td>\n",
       "      <td>1077.0</td>\n",
       "      <td>1131.0</td>\n",
       "      <td>1188.0</td>\n",
       "      <td>1236.0</td>\n",
       "      <td>1298.0</td>\n",
       "      <td>1363.0</td>\n",
       "      <td>1404.0</td>\n",
       "      <td>1474.0</td>\n",
       "      <td>1548.0</td>\n",
       "      <td>1625.0</td>\n",
       "    </tr>\n",
       "    <tr>\n",
       "      <td>6</td>\n",
       "      <td>Mandatory Fees</td>\n",
       "      <td>Undergrad FT</td>\n",
       "      <td>1487.0</td>\n",
       "      <td>1653.0</td>\n",
       "      <td>1689.0</td>\n",
       "      <td>1733.0</td>\n",
       "      <td>1771.0</td>\n",
       "      <td>1815.0</td>\n",
       "      <td>1844.0</td>\n",
       "      <td>1866.0</td>\n",
       "      <td>1918.0</td>\n",
       "      <td>1944.0</td>\n",
       "      <td>1955.0</td>\n",
       "    </tr>\n",
       "    <tr>\n",
       "      <td>7</td>\n",
       "      <td>Mandatory Fees</td>\n",
       "      <td>Undergrad PT</td>\n",
       "      <td>678.0</td>\n",
       "      <td>761.0</td>\n",
       "      <td>779.0</td>\n",
       "      <td>799.0</td>\n",
       "      <td>818.0</td>\n",
       "      <td>840.0</td>\n",
       "      <td>855.0</td>\n",
       "      <td>866.0</td>\n",
       "      <td>893.0</td>\n",
       "      <td>906.0</td>\n",
       "      <td>910.0</td>\n",
       "    </tr>\n",
       "    <tr>\n",
       "      <td>8</td>\n",
       "      <td>Mandatory Fees</td>\n",
       "      <td>Graduate FT</td>\n",
       "      <td>1188.0</td>\n",
       "      <td>1351.0</td>\n",
       "      <td>1383.0</td>\n",
       "      <td>1413.0</td>\n",
       "      <td>1446.0</td>\n",
       "      <td>1490.0</td>\n",
       "      <td>1521.0</td>\n",
       "      <td>1538.0</td>\n",
       "      <td>1590.0</td>\n",
       "      <td>1620.0</td>\n",
       "      <td>1635.0</td>\n",
       "    </tr>\n",
       "    <tr>\n",
       "      <td>9</td>\n",
       "      <td>Mandatory Fees</td>\n",
       "      <td>Graduate PT</td>\n",
       "      <td>675.0</td>\n",
       "      <td>757.0</td>\n",
       "      <td>773.0</td>\n",
       "      <td>788.0</td>\n",
       "      <td>806.0</td>\n",
       "      <td>829.0</td>\n",
       "      <td>846.0</td>\n",
       "      <td>855.0</td>\n",
       "      <td>881.0</td>\n",
       "      <td>898.0</td>\n",
       "      <td>902.0</td>\n",
       "    </tr>\n",
       "  </tbody>\n",
       "</table>\n",
       "</div>"
      ],
      "text/plain": [
       "  Fee Type (Total for Fall and Spring)  \\\n",
       "0               Standard Tuition Rates   \n",
       "1               Standard Tuition Rates   \n",
       "2               Standard Tuition Rates   \n",
       "3               Standard Tuition Rates   \n",
       "4               Standard Tuition Rates   \n",
       "5               Standard Tuition Rates   \n",
       "6                       Mandatory Fees   \n",
       "7                       Mandatory Fees   \n",
       "8                       Mandatory Fees   \n",
       "9                       Mandatory Fees   \n",
       "\n",
       "                                  Student Type     2010     2011     2012  \\\n",
       "0                           Undergrad Resident   6566.0   6763.0   6966.0   \n",
       "1                            Undergrad Non-Res  22503.0  23178.0  24337.0   \n",
       "2  Undergrad PT Resident (fee per credit hour)    273.0    282.0    290.0   \n",
       "3   Undergrad PT Non-Res (fee per credit hour)    938.0    966.0   1014.0   \n",
       "4      Graduate Resident (fee per credit hour)    471.0    500.0    525.0   \n",
       "5       Graduate Non-Res (fee per credit hour)   1016.0   1077.0   1131.0   \n",
       "6                                 Undergrad FT   1487.0   1653.0   1689.0   \n",
       "7                                 Undergrad PT    678.0    761.0    779.0   \n",
       "8                                  Graduate FT   1188.0   1351.0   1383.0   \n",
       "9                                  Graduate PT    675.0    757.0    773.0   \n",
       "\n",
       "      2013     2014     2015     2016     2017     2018     2019     2020  \n",
       "0   7175.0   7390.0   7764.0   8152.0   8315.0   8481.0   8651.0   8824.0  \n",
       "1  25554.0  26576.0  27905.0  29300.0  30179.0  31688.0  33272.0  34936.0  \n",
       "2    299.0    308.0    324.0    340.0    346.0    353.0    360.0    367.0  \n",
       "3   1065.0   1108.0   1163.0   1221.0   1258.0   1321.0   1387.0   1456.0  \n",
       "4    551.0    573.0    602.0    632.0    651.0    683.0    717.0    731.0  \n",
       "5   1188.0   1236.0   1298.0   1363.0   1404.0   1474.0   1548.0   1625.0  \n",
       "6   1733.0   1771.0   1815.0   1844.0   1866.0   1918.0   1944.0   1955.0  \n",
       "7    799.0    818.0    840.0    855.0    866.0    893.0    906.0    910.0  \n",
       "8   1413.0   1446.0   1490.0   1521.0   1538.0   1590.0   1620.0   1635.0  \n",
       "9    788.0    806.0    829.0    846.0    855.0    881.0    898.0    902.0  "
      ]
     },
     "execution_count": 9,
     "metadata": {},
     "output_type": "execute_result"
    }
   ],
   "source": [
    "tuition_fees"
   ]
  },
  {
   "cell_type": "code",
   "execution_count": 10,
   "metadata": {},
   "outputs": [],
   "source": [
    "tuition_fees.to_pickle('df/tuition_fees')"
   ]
  },
  {
   "cell_type": "code",
   "execution_count": null,
   "metadata": {},
   "outputs": [],
   "source": []
  }
 ],
 "metadata": {
  "kernelspec": {
   "display_name": "Python 3",
   "language": "python",
   "name": "python3"
  },
  "language_info": {
   "codemirror_mode": {
    "name": "ipython",
    "version": 3
   },
   "file_extension": ".py",
   "mimetype": "text/x-python",
   "name": "python",
   "nbconvert_exporter": "python",
   "pygments_lexer": "ipython3",
   "version": "3.6.8"
  }
 },
 "nbformat": 4,
 "nbformat_minor": 2
}
